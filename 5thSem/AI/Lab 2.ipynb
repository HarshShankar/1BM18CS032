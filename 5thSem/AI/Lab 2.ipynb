{
 "cells": [
  {
   "cell_type": "markdown",
   "metadata": {},
   "source": [
    "### 8puzzle-bfs"
   ]
  },
  {
   "cell_type": "code",
   "execution_count": 8,
   "metadata": {},
   "outputs": [],
   "source": [
    "def print_grid(matrix):\n",
    "    state=matrix.copy()\n",
    "    state[state.index(-1)]=\" \"\n",
    "    print(\n",
    "        f\"\"\"\n",
    "{state[0]} {state[1]} {state[2]}\n",
    "{state[3]} {state[4]} {state[5]}\n",
    "{state[6]} {state[7]} {state[8]}\n",
    "        \"\"\"\n",
    "    )"
   ]
  },
  {
   "cell_type": "code",
   "execution_count": 22,
   "metadata": {},
   "outputs": [],
   "source": [
    "def bfs(src,target):\n",
    "    frontier=[src]\n",
    "    visited_states=set()\n",
    "    while len(frontier):\n",
    "        state=frontier.pop(0)\n",
    "        print_grid(state)\n",
    "        visited_states.add(tuple(state))\n",
    "        if(state==target):\n",
    "            print(\"Success\")\n",
    "            return \n",
    "        else:\n",
    "            for move in possible_moves(state,visited_states):\n",
    "                if move not in frontier:\n",
    "                    frontier.append(move)\n",
    "            #print(frontier)\n",
    "    print(\"Fail\")"
   ]
  },
  {
   "cell_type": "code",
   "execution_count": 23,
   "metadata": {},
   "outputs": [],
   "source": [
    "def possible_moves(state,visited_states):\n",
    "    b=state.index(-1)\n",
    "    d=[]\n",
    "    if b not in (0,1,2):\n",
    "        d.append(\"up\")\n",
    "    if b not in (6,7,8):\n",
    "        d.append(\"down\")\n",
    "    if b not in (0,3,6):\n",
    "        d.append(\"left\")\n",
    "    if b not in (2,5,8):\n",
    "        d.append(\"right\")\n",
    "    #print(d)\n",
    "    return [ move for move in gen(state,b,d) if tuple(move) not in visited_states]"
   ]
  },
  {
   "cell_type": "code",
   "execution_count": 24,
   "metadata": {},
   "outputs": [],
   "source": [
    "def gen(state,b,d):\n",
    "    x=[]\n",
    "    for i in d:\n",
    "        temp=state.copy()\n",
    "        if i == \"up\":\n",
    "            temp[b-3],temp[b]=temp[b],temp[b-3]\n",
    "        elif i==\"down\":\n",
    "            temp[b+3],temp[b]=temp[b],temp[b+3]\n",
    "        elif i==\"right\":\n",
    "            temp[b+1],temp[b]=temp[b],temp[b+1]\n",
    "        elif i==\"left\":\n",
    "            temp[b-1],temp[b]=temp[b],temp[b-1]\n",
    "        x.append(temp)\n",
    "    #print(x)\n",
    "    return x"
   ]
  },
  {
   "cell_type": "code",
   "execution_count": 25,
   "metadata": {},
   "outputs": [
    {
     "name": "stdout",
     "output_type": "stream",
     "text": [
      "\n",
      "1 2 3\n",
      "6 4 5\n",
      "  7 8\n",
      "        \n",
      "\n",
      "1 2 3\n",
      "  4 5\n",
      "6 7 8\n",
      "        \n",
      "[[-1, 2, 3, 1, 4, 5, 6, 7, 8], [1, 2, 3, 6, 4, 5, -1, 7, 8], [1, 2, 3, 4, -1, 5, 6, 7, 8]]\n",
      "\n",
      "  2 3\n",
      "1 4 5\n",
      "6 7 8\n",
      "        \n",
      "[[1, 2, 3, -1, 4, 5, 6, 7, 8], [2, -1, 3, 1, 4, 5, 6, 7, 8]]\n",
      "\n",
      "1 2 3\n",
      "6 4 5\n",
      "  7 8\n",
      "        \n",
      "Success\n"
     ]
    }
   ],
   "source": [
    "src = [1,2,3,-1,4,5,6,7,8] \n",
    "target=[1,2,3,6,4,5,-1,7,8]\n",
    "print_grid(target)\n",
    "\n",
    "\n",
    "bfs(src, target)"
   ]
  },
  {
   "cell_type": "code",
   "execution_count": null,
   "metadata": {},
   "outputs": [],
   "source": []
  }
 ],
 "metadata": {
  "kernelspec": {
   "display_name": "Python 3",
   "language": "python",
   "name": "python3"
  },
  "language_info": {
   "codemirror_mode": {
    "name": "ipython",
    "version": 3
   },
   "file_extension": ".py",
   "mimetype": "text/x-python",
   "name": "python",
   "nbconvert_exporter": "python",
   "pygments_lexer": "ipython3",
   "version": "3.8.5"
  }
 },
 "nbformat": 4,
 "nbformat_minor": 4
}
