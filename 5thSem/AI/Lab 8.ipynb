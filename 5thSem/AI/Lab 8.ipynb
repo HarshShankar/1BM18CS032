{
 "cells": [
  {
   "cell_type": "code",
   "execution_count": 1,
   "metadata": {},
   "outputs": [],
   "source": [
    "import re\n",
    "\n",
    "def getAttributes(expression):\n",
    "    \n",
    "    expression = expression.split(\"(\")[1:]\n",
    "    \n",
    "    expression = \"(\".join(expression)\n",
    "    \n",
    "    expression = expression[:-1]\n",
    "    \n",
    "    expression = re.split(\"(?<!\\(.),(?!.\\))\", expression)\n",
    "    \n",
    "    return expression"
   ]
  },
  {
   "cell_type": "code",
   "execution_count": 2,
   "metadata": {},
   "outputs": [],
   "source": [
    "\n",
    "def getInitialPredicate(expression):\n",
    "    return expression.split(\"(\")[0]\n",
    "\n",
    "\n",
    "def isConstant(char):\n",
    "    return char.isupper() and len(char) == 1\n",
    "\n",
    "def isVariable(char):\n",
    "    return char.islower() and len(char) == 1\n",
    "\n",
    "def replaceAttributes(exp, old, new):\n",
    "    attributes = getAttributes(exp)\n",
    "    \n",
    "    for index, val in enumerate(attributes):\n",
    "        if val == old:\n",
    "            attributes[index] = new\n",
    "    predicate = getInitialPredicate(exp)\n",
    "    return predicate + \"(\" + \",\".join(attributes) + \")\"\n",
    "\n",
    "def apply(exp, substitutions):\n",
    "    for substitution in substitutions:\n",
    "        new, old = substitution[0],substitution[2]  # substitution is a tuple of 2 values (new, old)\n",
    "        exp = replaceAttributes(exp, old, new)\n",
    "    return exp"
   ]
  },
  {
   "cell_type": "code",
   "execution_count": 3,
   "metadata": {},
   "outputs": [],
   "source": [
    "def checkOccurs(var, exp):\n",
    "    if exp.find(var) == -1:\n",
    "        return False\n",
    "    return True\n",
    "\n",
    "\n",
    "def getFirstPart(expression):\n",
    "    attributes = getAttributes(expression)\n",
    "    return attributes[0]\n",
    "\n",
    "\n",
    "def getRemainingPart(expression):\n",
    "    predicate = getInitialPredicate(expression)\n",
    "    attributes = getAttributes(expression)\n",
    "    newExpression = predicate + \"(\" + \",\".join(attributes[1:]) + \")\"\n",
    "    return newExpression"
   ]
  },
  {
   "cell_type": "code",
   "execution_count": 4,
   "metadata": {},
   "outputs": [],
   "source": [
    "def unify(exp1, exp2):\n",
    "    if exp1 == exp2:\n",
    "        return []\n",
    "\n",
    "    if isConstant(exp1) and isConstant(exp2):\n",
    "        if exp1 != exp2:\n",
    "            return False\n",
    "\n",
    "    if isConstant(exp1):\n",
    "        return [(exp1,'|', exp2)]\n",
    "\n",
    "    if isConstant(exp2):\n",
    "        return [(exp2,'|', exp1)]\n",
    "\n",
    "    if isVariable(exp1):\n",
    "        if checkOccurs(exp1, exp2):\n",
    "            \n",
    "            return False\n",
    "        else:\n",
    "            \n",
    "            return [(exp2,'|', exp1)]\n",
    "\n",
    "    if isVariable(exp2):\n",
    "        if checkOccurs(exp2, exp1):\n",
    "            return False\n",
    "        else:\n",
    "            return [(exp1,'|', exp2)]\n",
    "\n",
    "    if getInitialPredicate(exp1) != getInitialPredicate(exp2):\n",
    "        print(\"Predicates do not match. Cannot be unified\")\n",
    "        return False\n",
    "\n",
    "    attributeCount1 = len(getAttributes(exp1))\n",
    "\n",
    "    attributeCount2 = len(getAttributes(exp2))\n",
    "\n",
    "    if attributeCount1 != attributeCount2:\n",
    "        return False\n",
    "\n",
    "    head1 = getFirstPart(exp1)\n",
    "    print(\"Head1 \",head1)\n",
    "    head2 = getFirstPart(exp2)\n",
    "    print(\"Head2 \",head2)\n",
    "    initialSubstitution = unify(head1, head2)\n",
    "    print(\"initial \",initialSubstitution)\n",
    "    \n",
    "    if not initialSubstitution:\n",
    "        return False\n",
    "    if attributeCount1 == 1:\n",
    "        return initialSubstitution\n",
    "\n",
    "    tail1 = getRemainingPart(exp1)\n",
    "    print(\"tail1 \",tail1)\n",
    "    tail2 = getRemainingPart(exp2)\n",
    "    print(\"tail2 \",tail2)\n",
    "\n",
    "    if initialSubstitution != []:\n",
    "        tail1 = apply(tail1, initialSubstitution)\n",
    "        print(\"tail11 \",tail1)\n",
    "        tail2 = apply(tail2, initialSubstitution)\n",
    "        print(\"tail21 \",tail2)\n",
    "\n",
    "    remainingSubstitution = unify(tail1, tail2)\n",
    "    if not remainingSubstitution:\n",
    "        return False\n",
    "    \n",
    "    initialSubstitution.extend(remainingSubstitution)\n",
    "    return initialSubstitution"
   ]
  },
  {
   "cell_type": "code",
   "execution_count": 7,
   "metadata": {},
   "outputs": [
    {
     "name": "stdout",
     "output_type": "stream",
     "text": [
      "Expression 1:  knows(John,x)\n",
      "Expression 2:  knows(y,Raj)\n",
      "Head1  John\n",
      "Head2  y\n",
      "initial  [('John', '|', 'y')]\n",
      "tail1  knows(x)\n",
      "tail2  knows(Raj)\n",
      "tail11  knows(x)\n",
      "tail21  knows(Raj)\n",
      "Head1  x\n",
      "Head2  Raj\n",
      "initial  [('Raj', '|', 'x')]\n",
      "Substitutions:\n",
      "[('John', '|', 'y'), ('Raj', '|', 'x')]\n"
     ]
    }
   ],
   "source": [
    "exp1 = input(\"Expression 1:  \")\n",
    "exp2 = input(\"Expression 2:  \")\n",
    "subs = unify(exp1, exp2)\n",
    "print(\"Substitutions:\")\n",
    "print(subs)"
   ]
  },
  {
   "cell_type": "code",
   "execution_count": 8,
   "metadata": {},
   "outputs": [
    {
     "name": "stdout",
     "output_type": "stream",
     "text": [
      "Expression 1:  studies(x,g(x))\n",
      "Expression 2:  studies(y,f(z))\n",
      "Head1  x\n",
      "Head2  y\n",
      "initial  [('y', '|', 'x')]\n",
      "tail1  studies(g(x))\n",
      "tail2  studies(f(z))\n",
      "tail11  studies(g(x))\n",
      "tail21  studies(f(z))\n",
      "Head1  g(x)\n",
      "Head2  f(z)\n",
      "Predicates do not match. Cannot be unified\n",
      "initial  False\n",
      "Substitutions:\n",
      "False\n"
     ]
    }
   ],
   "source": [
    "exp1 = input(\"Expression 1:  \")\n",
    "exp2 = input(\"Expression 2:  \")\n",
    "subs = unify(exp1, exp2)\n",
    "print(\"Substitutions:\")\n",
    "print(subs)"
   ]
  },
  {
   "cell_type": "code",
   "execution_count": null,
   "metadata": {},
   "outputs": [],
   "source": []
  }
 ],
 "metadata": {
  "kernelspec": {
   "display_name": "Python 3",
   "language": "python",
   "name": "python3"
  },
  "language_info": {
   "codemirror_mode": {
    "name": "ipython",
    "version": 3
   },
   "file_extension": ".py",
   "mimetype": "text/x-python",
   "name": "python",
   "nbconvert_exporter": "python",
   "pygments_lexer": "ipython3",
   "version": "3.7.4"
  }
 },
 "nbformat": 4,
 "nbformat_minor": 4
}
