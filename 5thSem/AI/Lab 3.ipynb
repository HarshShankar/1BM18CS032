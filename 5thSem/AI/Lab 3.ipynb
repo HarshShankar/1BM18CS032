{
 "cells": [
  {
   "cell_type": "markdown",
   "metadata": {},
   "source": [
    "### 8puzzle-iddfs"
   ]
  },
  {
   "cell_type": "code",
   "execution_count": 38,
   "metadata": {},
   "outputs": [],
   "source": [
    "def dfs(src,target,limit,visited_states):\n",
    "    if src == target:\n",
    "        return True\n",
    "    if limit <= 0:\n",
    "        return False\n",
    "    visited_states.append(src)\n",
    "    moves = possible_moves(src,visited_states)   \n",
    "    for move in moves:\n",
    "        if dfs(move, target, limit-1, visited_states):\n",
    "            return True\n",
    "    return False"
   ]
  },
  {
   "cell_type": "code",
   "execution_count": 39,
   "metadata": {},
   "outputs": [],
   "source": [
    "def possible_moves(state,visited_states):\n",
    "    b=state.index(-1)\n",
    "    d=[]\n",
    "    if b not in (0,1,2):\n",
    "        d.append(\"up\")\n",
    "    if b not in (6,7,8):\n",
    "        d.append(\"down\")\n",
    "    if b not in (0,3,6):\n",
    "        d.append(\"left\")\n",
    "    if b not in (2,5,8):\n",
    "        d.append(\"right\")\n",
    "    return [ move for move in gen(state,b,d) if move not in visited_states]"
   ]
  },
  {
   "cell_type": "code",
   "execution_count": 40,
   "metadata": {},
   "outputs": [],
   "source": [
    "def gen(state,b,d):\n",
    "    x=[]\n",
    "    for i in d:\n",
    "        temp=state.copy()\n",
    "        if i == \"up\":\n",
    "            temp[b-3],temp[b]=temp[b],temp[b-3]\n",
    "        elif i==\"down\":\n",
    "            temp[b+3],temp[b]=temp[b],temp[b+3]\n",
    "        elif i==\"right\":\n",
    "            temp[b+1],temp[b]=temp[b],temp[b+1]\n",
    "        elif i==\"left\":\n",
    "            temp[b-1],temp[b]=temp[b],temp[b-1]\n",
    "        x.append(temp)\n",
    "    return x"
   ]
  },
  {
   "cell_type": "code",
   "execution_count": 41,
   "metadata": {},
   "outputs": [],
   "source": [
    "\n",
    "def iddfs(src,target,depth):\n",
    "    for i in range(depth):\n",
    "        visited_states = []\n",
    "        if dfs(src,target,i+1,visited_states):\n",
    "            return True\n",
    "    return False"
   ]
  },
  {
   "cell_type": "code",
   "execution_count": 42,
   "metadata": {},
   "outputs": [
    {
     "name": "stdout",
     "output_type": "stream",
     "text": [
      "src [1, 2, 3, -1, 4, 5, 6, 7, 8]\n",
      "src [-1, 2, 3, 1, 4, 5, 6, 7, 8]\n",
      "src [1, 2, 3, 6, 4, 5, -1, 7, 8]\n"
     ]
    },
    {
     "data": {
      "text/plain": [
       "True"
      ]
     },
     "execution_count": 42,
     "metadata": {},
     "output_type": "execute_result"
    }
   ],
   "source": [
    "src = [1,2,3,-1,4,5,6,7,8] \n",
    "target=[1,2,3,6,4,5,-1,7,8]\n",
    "\n",
    "depth = 1\n",
    "iddfs(src, target, depth)"
   ]
  },
  {
   "cell_type": "code",
   "execution_count": null,
   "metadata": {},
   "outputs": [],
   "source": []
  }
 ],
 "metadata": {
  "kernelspec": {
   "display_name": "Python 3",
   "language": "python",
   "name": "python3"
  },
  "language_info": {
   "codemirror_mode": {
    "name": "ipython",
    "version": 3
   },
   "file_extension": ".py",
   "mimetype": "text/x-python",
   "name": "python",
   "nbconvert_exporter": "python",
   "pygments_lexer": "ipython3",
   "version": "3.8.5"
  }
 },
 "nbformat": 4,
 "nbformat_minor": 4
}
