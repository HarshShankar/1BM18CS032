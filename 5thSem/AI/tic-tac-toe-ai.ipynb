{
 "cells": [
  {
   "cell_type": "code",
   "execution_count": null,
   "metadata": {},
   "outputs": [],
   "source": [
    "import sys\n",
    "player,opponent='o','x' #human: 'x' computer: 'o'"
   ]
  },
  {
   "cell_type": "code",
   "execution_count": null,
   "metadata": {},
   "outputs": [],
   "source": [
    "def isMovesLeft(board):\n",
    "    for row in board:\n",
    "        for col in row:\n",
    "            if col==\"_\":\n",
    "                return True\n",
    "    return False"
   ]
  },
  {
   "cell_type": "code",
   "execution_count": null,
   "metadata": {},
   "outputs": [],
   "source": [
    "def gameOver(board):\n",
    "    if(evaluate(board)==10 or evaluate(board)==-10):\n",
    "        return True\n",
    "    if(not(isMovesLeft)):\n",
    "        return True"
   ]
  },
  {
   "cell_type": "code",
   "execution_count": null,
   "metadata": {},
   "outputs": [],
   "source": [
    "def Emptycells(board):\n",
    "    e=0\n",
    "    for row in board:\n",
    "        for col in row:\n",
    "            if col=='_':\n",
    "                e+=1\n",
    "    return e"
   ]
  },
  {
   "cell_type": "code",
   "execution_count": null,
   "metadata": {},
   "outputs": [],
   "source": [
    "def evaluate(board):\n",
    "    #check for rows\n",
    "    for row in board:\n",
    "        if(row[0]==row[1] and row[1]==row[2]):\n",
    "            if row[0]==player:                    #winner is human\n",
    "                return +10\n",
    "            elif row[0] ==opponent :              #winner is computer \n",
    "                return -10\n",
    "    #check for columns\n",
    "    for col in range(3):\n",
    "        if(board[0][col]==board[1][col] and board[1][col]==board[2][col]):\n",
    "            if board[0][col]==player:\n",
    "                return +10 \n",
    "            elif board[0][col] ==opponent :\n",
    "                return -10\n",
    "    #check for diagonals\n",
    "    if (board[0][0]==board[1][1] and board[1][1]==board[2][2]): \n",
    "        if (board[0][0]==player):\n",
    "            return +10\n",
    "        elif board[0][0] ==opponent :\n",
    "            return -10 \n",
    "    if (board[0][2]==board[1][1] and board[1][1]==board[2][0]): \n",
    "        if (board[0][2]==player):\n",
    "            return +10\n",
    "        elif board[0][2]==opponent :\n",
    "            return -10 \n",
    "    return 0"
   ]
  },
  {
   "cell_type": "code",
   "execution_count": null,
   "metadata": {},
   "outputs": [],
   "source": [
    "def minmax(board,depth,isMax):\n",
    "    \n",
    "    if(depth==0 or gameOver(board)):\n",
    "        return [evaluate(board),-1,-1]\n",
    "    \n",
    "    if(isMax):                                  #HUMAN\n",
    "        best=-1000\n",
    "        r,c=-1,-1\n",
    "        for i,row in enumerate(board):\n",
    "            for j,col in enumerate(row):\n",
    "                if col==\"_\":\n",
    "                    board[i][j]=player\n",
    "                    highest=minmax(board,depth-1,False)\n",
    "                    if(highest[0]>best):\n",
    "                        best=highest[0]\n",
    "                        r,c=i,j\n",
    "                    board[i][j]=\"_\"\n",
    "        return [best,r,c]             \n",
    "    else:                                       #COMP\n",
    "        best=1000\n",
    "        r,c=-1,-1\n",
    "        for i,row in enumerate(board):\n",
    "            for j,col in enumerate(row):\n",
    "                if col=='_':\n",
    "                    board[i][j]=opponent\n",
    "                    lowest=minmax(board,depth-1,True)\n",
    "                    if(lowest[0]<best):\n",
    "                        best=lowest[0]\n",
    "                        r,c=i,j\n",
    "                    board[i][j]=\"_\"\n",
    "        return [best,r,c]"
   ]
  },
  {
   "cell_type": "code",
   "execution_count": null,
   "metadata": {},
   "outputs": [],
   "source": [
    "def findBestMove(board):\n",
    "    depth=Emptycells(board)\n",
    "    best=minmax(board,depth,False)\n",
    "    \n",
    "    '''\n",
    "    for i in range(3):\n",
    "        for j in range(3):\n",
    "            if(board[i][j]==\"_\"):\n",
    "                board[i][j]=opponent\n",
    "                depth=Emptycells(board)\n",
    "                moveVal=minmax(board,depth,True)\n",
    "                board[i][j]=\"_\"\n",
    "                if(moveVal>bestVal):\n",
    "                    move['r'],move['c']=i,j\n",
    "                    bestVal=moveVal\n",
    "    '''\n",
    "    \n",
    "    return [best[1],best[2]]"
   ]
  },
  {
   "cell_type": "code",
   "execution_count": null,
   "metadata": {},
   "outputs": [],
   "source": [
    "board=[['_', '_', '_' ],['_', '_', '_' ],['_', '_', '_' ]]\n",
    "while(isMovesLeft(board) and not(gameOver(board))):\n",
    "    try:\n",
    "        i,j=input(\"YOUR MOVE:\").split()\n",
    "        i,j=int(i),int(j)\n",
    "        if(board[i][j]==\"_\"):\n",
    "            board[i][j]=player\n",
    "        else:\n",
    "            print(\"Box is not empty, Try Again!\")\n",
    "            continue\n",
    "        for row in board:\n",
    "            print(row)\n",
    "        m=findBestMove(board)\n",
    "        board[m[0]][m[1]]=opponent\n",
    "        print(\"COMPUTER'S MOVE:\")\n",
    "        for row in board:\n",
    "            print(row)\n",
    "    except(ValueError):\n",
    "        print(\"Do you want to exit? Y/N \")\n",
    "        x=input();\n",
    "        if(x=='Y' or x=='y'):\n",
    "            raise StopExecution\n",
    "    except(IndexError): \n",
    "        print(\"Oops! Please enter numbers between 0 and 2\")\n",
    "    \n",
    "if(gameOver(board)):\n",
    "    if(evaluate(board)==10):\n",
    "        print(\"HUMAN WINS! :)\")\n",
    "    elif(evaluate(board)==-10):\n",
    "        print(\"COMPUTER WINS! :)\")\n",
    "    else:\n",
    "        print(\"THE GAME IS A DRAW! :|\")\n"
   ]
  },
  {
   "cell_type": "code",
   "execution_count": null,
   "metadata": {},
   "outputs": [],
   "source": []
  }
 ],
 "metadata": {
  "kernelspec": {
   "display_name": "Python 3",
   "language": "python",
   "name": "python3"
  },
  "language_info": {
   "codemirror_mode": {
    "name": "ipython",
    "version": 3
   },
   "file_extension": ".py",
   "mimetype": "text/x-python",
   "name": "python",
   "nbconvert_exporter": "python",
   "pygments_lexer": "ipython3",
   "version": "3.8.2"
  }
 },
 "nbformat": 4,
 "nbformat_minor": 4
}
