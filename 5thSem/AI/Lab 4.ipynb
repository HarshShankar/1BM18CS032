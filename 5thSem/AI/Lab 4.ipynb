{
 "cells": [
  {
   "cell_type": "markdown",
   "metadata": {},
   "source": [
    "### 8Puzzle-A*"
   ]
  },
  {
   "cell_type": "code",
   "execution_count": null,
   "metadata": {},
   "outputs": [],
   "source": [
    "class Node:\n",
    "    def __init__(self,data,level,fval):\n",
    "        self.data=data\n",
    "        self.level=level\n",
    "        self.fval=fval\n",
    "        \n",
    "    def generate_chid(self):\n",
    "        x,y=self.find(self.data,'_')\n",
    "        val=[[x,y-1],[x,y+1],[x-1,y],[x+1,y]]\n",
    "        children=[]\n",
    "        for i in val:\n",
    "            child=self.shuffle(self.data,x,y,i[0],i[1])\n",
    "            if child is not None:\n",
    "                child_node=Node(child,self.level+1,0)\n",
    "                children.append(child_node)\n",
    "        return children\n",
    "    \n",
    "    def find(self,puz,x):\n",
    "        for i,row in enumerate(puz):\n",
    "            for j,col in enumerate(row):\n",
    "                if col == x:\n",
    "                    return i,j\n",
    "    def shuffle(self,puz,x,y,xf,yf):\n",
    "            if(xf>=0 and xf<len(puz) and yf>=0 and yf<len(puz)):\n",
    "                temp_puz=[]\n",
    "                temp_puz=self.copy(puz)\n",
    "                temp=temp_puz[xf][yf]\n",
    "                temp_puz[xf][yf]=puz[x][y]\n",
    "                temp_puz[x][y]=temp\n",
    "                return temp_puz\n",
    "            else:\n",
    "                return None\n",
    "    def copy(self,puz):\n",
    "        temp=[]\n",
    "        for i in puz:\n",
    "            t=[]\n",
    "            for j in i:\n",
    "                t.append(j)\n",
    "            temp.append(t)\n",
    "        return temp"
   ]
  },
  {
   "cell_type": "code",
   "execution_count": null,
   "metadata": {},
   "outputs": [],
   "source": [
    "class Puzzle:\n",
    "    def __init__(self,size):\n",
    "        self.n=size\n",
    "        self.open=[]\n",
    "        self.closed=[]\n",
    "    \n",
    "    def accept(self):\n",
    "        puz=[]\n",
    "        for i in range(0,self.n):\n",
    "            temp = input().split(\" \")\n",
    "            puz.append(temp)\n",
    "        return puz\n",
    "    \n",
    "    def find(self,goal,x):\n",
    "        for i,row in enumerate(goal):\n",
    "            for j,col in enumerate(row):\n",
    "                if col == x:\n",
    "                    return i,j\n",
    "    def f(self,start,goal):\n",
    "        return self.h(start.data,goal)+start.level\n",
    "    \n",
    "    def h(self,start,goal):\n",
    "        t=0;\n",
    "        for i,row in enumerate(start):\n",
    "            for j,col in enumerate(row):\n",
    "                if( col!=goal[i][j] and col!='_'):\n",
    "                    x1,y1=self.find(start,goal[i][j])\n",
    "                    t+= abs(x1-i) + abs(y1-j)    \n",
    "        return t\n",
    "    \n",
    "    def process(self):\n",
    "        print(\"Enter the starting state matrix \")\n",
    "        start=self.accept()\n",
    "        print(\"Enter the goal state matrix \")\n",
    "        goal=self.accept()\n",
    "        \n",
    "        start=Node(start,0,0)\n",
    "        start.fval=self.f(start,goal)\n",
    "        self.open.append(start)\n",
    "        count=0\n",
    "        while(True):\n",
    "            cur=self.open[0]\n",
    "            print(\"*********\")\n",
    "            for i in cur.data:\n",
    "                for j in i: \n",
    "                    print(j,end=\" \")\n",
    "                print(\"\")\n",
    "            \n",
    "                \n",
    "            if(self.h(cur.data,goal)==0):\n",
    "                print(\"Total number of steps:\",count+1)\n",
    "                break\n",
    "            \n",
    "            for i in cur.generate_chid():\n",
    "                i.fval=self.f(i,goal)\n",
    "                self.open.append(i)\n",
    "            \n",
    "            self.closed.append(cur)\n",
    "            del self.open[0]\n",
    "            \n",
    "            self.open.sort(key= lambda x:x.fval, reverse=False)\n",
    "            count+=1\n",
    "            "
   ]
  },
  {
   "cell_type": "code",
   "execution_count": null,
   "metadata": {},
   "outputs": [],
   "source": [
    "puz = Puzzle(3)"
   ]
  },
  {
   "cell_type": "code",
   "execution_count": null,
   "metadata": {},
   "outputs": [],
   "source": [
    "print(\"Using A* search\")\n",
    "puz.process()"
   ]
  },
  {
   "cell_type": "code",
   "execution_count": null,
   "metadata": {},
   "outputs": [],
   "source": []
  },
  {
   "cell_type": "code",
   "execution_count": null,
   "metadata": {},
   "outputs": [],
   "source": []
  }
 ],
 "metadata": {
  "kernelspec": {
   "display_name": "Python 3",
   "language": "python",
   "name": "python3"
  },
  "language_info": {
   "codemirror_mode": {
    "name": "ipython",
    "version": 3
   },
   "file_extension": ".py",
   "mimetype": "text/x-python",
   "name": "python",
   "nbconvert_exporter": "python",
   "pygments_lexer": "ipython3",
   "version": "3.8.5"
  }
 },
 "nbformat": 4,
 "nbformat_minor": 4
}
