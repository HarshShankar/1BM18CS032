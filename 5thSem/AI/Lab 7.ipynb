{
 "cells": [
  {
   "cell_type": "markdown",
   "metadata": {},
   "source": [
    "### Create a KB and prove that a given query entails a KB using Resolution"
   ]
  },
  {
   "cell_type": "code",
   "execution_count": 8,
   "metadata": {},
   "outputs": [],
   "source": [
    "def disjunctify(clauses):\n",
    "    disjuncts = []\n",
    "    for clause in clauses:\n",
    "        disjuncts.append(tuple(clause.split('v')))\n",
    "    return disjuncts\n",
    "\n",
    "def getResolvant(ci, cj, di, dj):\n",
    "    resolvant = list(ci) + list(cj)\n",
    "    resolvant.remove(di)\n",
    "    resolvant.remove(dj)\n",
    "    return tuple(resolvant)\n",
    "\n",
    "def resolve(ci, cj):\n",
    "    for di in ci:\n",
    "        for dj in cj:\n",
    "            if di == '~' + dj or dj == '~' + di:\n",
    "                return getResolvant(ci, cj, di, dj)"
   ]
  },
  {
   "cell_type": "code",
   "execution_count": 11,
   "metadata": {},
   "outputs": [],
   "source": [
    "def checkResolution(clauses, query):\n",
    "    clauses += [query if query.startswith('~') else '~' + query]\n",
    "    print(clauses)\n",
    "    proposition = '^'.join(['(' + clause + ')' for clause in clauses])\n",
    "    print(f'Trying to prove {proposition} by contradiction....')\n",
    "    \n",
    "    clauses = disjunctify(clauses)\n",
    "    resolved = False\n",
    "    new = set()\n",
    "    \n",
    "    while not resolved:\n",
    "        n = len(clauses)\n",
    "        pairs = [(clauses[i], clauses[j]) for i in range(n) for j in range(i + 1, n)]\n",
    "        for (ci, cj) in pairs:\n",
    "            resolvant = resolve(ci, cj)\n",
    "            if not resolvant:\n",
    "                resolved = True\n",
    "                break\n",
    "            new = new.union(set(resolvant))\n",
    "        if new.issubset(set(clauses)):\n",
    "            break\n",
    "        for clause in new:\n",
    "            if clause not in clauses:\n",
    "                clauses.append(clause)\n",
    "        \n",
    "    if resolved:\n",
    "        print('Knowledge Base entails the query, proved by resolution')\n",
    "    else:\n",
    "        print(\"Knowledge Base doesn't entail the query, no empty set produced after resolution\")"
   ]
  },
  {
   "cell_type": "code",
   "execution_count": 13,
   "metadata": {},
   "outputs": [
    {
     "name": "stdout",
     "output_type": "stream",
     "text": [
      "Enter the clauses PvQ ~PvR ~QvR\n",
      "Enter the query: ~R\n",
      "['PvQ', '~PvR', '~QvR', '~R']\n",
      "Trying to prove (PvQ)^(~PvR)^(~QvR)^(~R) by contradiction....\n",
      "Knowledge Base entails the query, proved by resolution\n"
     ]
    }
   ],
   "source": [
    "\n",
    "#Test Case 1\n",
    "clauses = input('Enter the clauses ').split()\n",
    "query = input('Enter the query: ')\n",
    "checkResolution(clauses, query)"
   ]
  },
  {
   "cell_type": "code",
   "execution_count": 6,
   "metadata": {},
   "outputs": [
    {
     "name": "stdout",
     "output_type": "stream",
     "text": [
      "Enter the clauses ~Qv~PvR ~Q^P Q\n",
      "Enter the query: Q\n",
      "Trying to prove (~Qv~PvR)^(~Q^P)^(Q)^(~Q) by contradiction....\n",
      "Knowledge Base entails the query, proved by resolution\n"
     ]
    }
   ],
   "source": [
    "#Test Case 2\n",
    "clauses = input('Enter the clauses ').split()\n",
    "query = input('Enter the query: ')\n",
    "checkResolution(clauses, query)"
   ]
  },
  {
   "cell_type": "code",
   "execution_count": 7,
   "metadata": {},
   "outputs": [
    {
     "name": "stdout",
     "output_type": "stream",
     "text": [
      "Enter the clauses PvQ ~PvR ~QvR\n",
      "Enter the query: R\n",
      "['PvQ', '~PvR', '~QvR', '~R']\n",
      "Trying to prove (PvQ)^(~PvR)^(~QvR)^(~R) by contradiction....\n"
     ]
    },
    {
     "ename": "NameError",
     "evalue": "name 'resolvents' is not defined",
     "output_type": "error",
     "traceback": [
      "\u001b[0;31m---------------------------------------------------------------------------\u001b[0m",
      "\u001b[0;31mNameError\u001b[0m                                 Traceback (most recent call last)",
      "\u001b[0;32m<ipython-input-7-a9079299c8a1>\u001b[0m in \u001b[0;36m<module>\u001b[0;34m\u001b[0m\n\u001b[1;32m      1\u001b[0m \u001b[0mclauses\u001b[0m \u001b[0;34m=\u001b[0m \u001b[0minput\u001b[0m\u001b[0;34m(\u001b[0m\u001b[0;34m'Enter the clauses '\u001b[0m\u001b[0;34m)\u001b[0m\u001b[0;34m.\u001b[0m\u001b[0msplit\u001b[0m\u001b[0;34m(\u001b[0m\u001b[0;34m)\u001b[0m\u001b[0;34m\u001b[0m\u001b[0;34m\u001b[0m\u001b[0m\n\u001b[1;32m      2\u001b[0m \u001b[0mquery\u001b[0m \u001b[0;34m=\u001b[0m \u001b[0minput\u001b[0m\u001b[0;34m(\u001b[0m\u001b[0;34m'Enter the query: '\u001b[0m\u001b[0;34m)\u001b[0m\u001b[0;34m\u001b[0m\u001b[0;34m\u001b[0m\u001b[0m\n\u001b[0;32m----> 3\u001b[0;31m \u001b[0mcheckResolution\u001b[0m\u001b[0;34m(\u001b[0m\u001b[0mclauses\u001b[0m\u001b[0;34m,\u001b[0m \u001b[0mquery\u001b[0m\u001b[0;34m)\u001b[0m\u001b[0;34m\u001b[0m\u001b[0;34m\u001b[0m\u001b[0m\n\u001b[0m",
      "\u001b[0;32m<ipython-input-5-6e6ab6fe3f67>\u001b[0m in \u001b[0;36mcheckResolution\u001b[0;34m(clauses, query)\u001b[0m\n\u001b[1;32m     17\u001b[0m                 \u001b[0mresolved\u001b[0m \u001b[0;34m=\u001b[0m \u001b[0;32mTrue\u001b[0m\u001b[0;34m\u001b[0m\u001b[0;34m\u001b[0m\u001b[0m\n\u001b[1;32m     18\u001b[0m                 \u001b[0;32mbreak\u001b[0m\u001b[0;34m\u001b[0m\u001b[0;34m\u001b[0m\u001b[0m\n\u001b[0;32m---> 19\u001b[0;31m             \u001b[0mnew\u001b[0m \u001b[0;34m=\u001b[0m \u001b[0mnew\u001b[0m\u001b[0;34m.\u001b[0m\u001b[0munion\u001b[0m\u001b[0;34m(\u001b[0m\u001b[0mset\u001b[0m\u001b[0;34m(\u001b[0m\u001b[0mresolvents\u001b[0m\u001b[0;34m)\u001b[0m\u001b[0;34m)\u001b[0m\u001b[0;34m\u001b[0m\u001b[0;34m\u001b[0m\u001b[0m\n\u001b[0m\u001b[1;32m     20\u001b[0m         \u001b[0;32mif\u001b[0m \u001b[0mnew\u001b[0m\u001b[0;34m.\u001b[0m\u001b[0missubset\u001b[0m\u001b[0;34m(\u001b[0m\u001b[0mset\u001b[0m\u001b[0;34m(\u001b[0m\u001b[0mclauses\u001b[0m\u001b[0;34m)\u001b[0m\u001b[0;34m)\u001b[0m\u001b[0;34m:\u001b[0m\u001b[0;34m\u001b[0m\u001b[0;34m\u001b[0m\u001b[0m\n\u001b[1;32m     21\u001b[0m             \u001b[0;32mbreak\u001b[0m\u001b[0;34m\u001b[0m\u001b[0;34m\u001b[0m\u001b[0m\n",
      "\u001b[0;31mNameError\u001b[0m: name 'resolvents' is not defined"
     ]
    }
   ],
   "source": [
    "clauses = input('Enter the clauses ').split()\n",
    "query = input('Enter the query: ')\n",
    "checkResolution(clauses, query)"
   ]
  },
  {
   "cell_type": "code",
   "execution_count": null,
   "metadata": {},
   "outputs": [],
   "source": []
  }
 ],
 "metadata": {
  "kernelspec": {
   "display_name": "Python 3",
   "language": "python",
   "name": "python3"
  },
  "language_info": {
   "codemirror_mode": {
    "name": "ipython",
    "version": 3
   },
   "file_extension": ".py",
   "mimetype": "text/x-python",
   "name": "python",
   "nbconvert_exporter": "python",
   "pygments_lexer": "ipython3",
   "version": "3.8.5"
  }
 },
 "nbformat": 4,
 "nbformat_minor": 4
}
